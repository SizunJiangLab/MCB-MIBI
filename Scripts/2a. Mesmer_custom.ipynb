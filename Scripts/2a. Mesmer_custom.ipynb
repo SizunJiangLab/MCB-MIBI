{
 "cells": [
  {
   "cell_type": "code",
   "execution_count": null,
   "metadata": {},
   "outputs": [],
   "source": [
    "# Time when the script starts\n",
    "import time\n",
    "start = time.time()\n",
    "print('Script started at time =', start)"
   ]
  },
  {
   "cell_type": "markdown",
   "metadata": {
    "raw_mimetype": "text/restructuredtext"
   },
   "source": [
    "# Whole cell segmentation\n",
    "We have modified this notebook from the original version. Refer to ``deepcell-tf`` documentation for more information: https://deepcell.readthedocs.io/."
   ]
  },
  {
   "cell_type": "markdown",
   "metadata": {
    "raw_mimetype": "text/restructuredtext"
   },
   "source": [
    "### Initialize Mesmer model\n",
    "\n",
    "The application will download pretrained weights for tissue segmentation as well as other packages that facilitate the cell segmentation process. For more information about application objects, please see the original [documentation](https://deepcell.readthedocs.io/en/master/API/deepcell.applications.html). Any warning messages that appear after running this is fine."
   ]
  },
  {
   "cell_type": "code",
   "execution_count": null,
   "metadata": {},
   "outputs": [],
   "source": [
    "import os\n",
    "os.environ[\"CUDA_VISIBLE_DEVICES\"] = \"0\"\n",
    "\n",
    "from deepcell.applications import Mesmer\n",
    "from deepcell.datasets import multiplex_tissue\n",
    "from deepcell.utils.plot_utils import create_rgb_image\n",
    "from deepcell.utils.plot_utils import make_outline_overlay\n",
    "from deepcell.utils.misc_utils import sorted_nicely\n",
    "from matplotlib import pyplot as plt\n",
    "from tifffile import TiffFile\n",
    "import tifffile as tiff\n",
    "import numpy as np\n",
    "\n",
    "app = Mesmer()"
   ]
  },
  {
   "cell_type": "markdown",
   "metadata": {},
   "source": [
    "### Set parameters\n",
    "\n",
    "In the cell below, edit the following values according to the comments in the cell. This enables the script to: 1. Locate our nucleus.tif and surface.tif files, 2. Define the mpp used for cell segmentation, 3. Save the cellSegmentation.tif and cellOutline.tif files (into the same folder)."
   ]
  },
  {
   "cell_type": "code",
   "execution_count": null,
   "metadata": {},
   "outputs": [],
   "source": [
    "# Set 'path' to the location of the folder that contains the nucleus.tif and surface.tif files\n",
    "path = '/Users/Project/Analysis/'\n",
    "\n",
    "# Set 'allFolders' to the name of the folder containing the .tif files\n",
    "allFolders = os.listdir(path)\n",
    "allFolders = ['images']\n",
    "\n",
    "# If necessary, set 'cellNuc' to the name of the nucleus.tif file (exclude '.tif')\n",
    "# If necessary, Set 'cellSur' to the name of the surface.tif file (exclude '.tif')\n",
    "cellNuc = 'nucleus'\n",
    "cellSur = 'surface'\n",
    "\n",
    "# Our recommended range of mpp values to test: 0.2 to 2.0. A higher mpp value gives a lower resolution.\n",
    "image_res = [0.5]"
   ]
  },
  {
   "cell_type": "markdown",
   "metadata": {},
   "source": [
    "### Import .tif files\n",
    "\n",
    "The 'nucleus.tif' and 'surface.tif' files obtained during data preparation are required by DeepCell to generate cell segmentation masks and cell outlines. To initialize the importing process, just run the following cell; the code is borrowed from an older version of DeepCell."
   ]
  },
  {
   "cell_type": "code",
   "execution_count": null,
   "metadata": {},
   "outputs": [],
   "source": [
    "def get_image(file_name):\n",
    "    \"\"\"Reads image from the file and returns it as a tensor.\n",
    "    Args:\n",
    "        file_name (str): path to image file\n",
    "    Returns:\n",
    "        numpy.array: numpy array of image data \"\"\"\n",
    "    ext = os.path.splitext(file_name.lower())[-1]\n",
    "    if ext == '.tif' or ext == '.tiff':\n",
    "        return np.float32(TiffFile(file_name).asarray())\n",
    "    return np.float32(imread(file_name))\n",
    "\n",
    "\n",
    "\n",
    "def nikon_getfiles(direc_name, channel_name):\n",
    "    \"\"\"Returns a sorted list of files inside 'direc_name' where 'channel_name' is in the filename.\n",
    "    Args:\n",
    "        direc_name (str): directory to find image files\n",
    "        channel_name (str): wildcard filter for filenames\n",
    "    Returns:\n",
    "        list: sorted list of files inside direc_name \"\"\"\n",
    "    imglist = os.listdir(direc_name)\n",
    "    imgfiles = [i for i in imglist if channel_name in i]\n",
    "    imgfiles = sorted_nicely(imgfiles)\n",
    "    return imgfiles\n",
    "\n",
    "\n",
    "\n",
    "def get_images_from_directory(data_location, channel_names):\n",
    "    \"\"\"Read all images from the 'data_location' directory, where 'channel_name' is in the filename.\n",
    "    Args:\n",
    "        data_location (str): folder containing image files\n",
    "        channel_names (str[]): list of wildcards to select filenames\n",
    "    Returns:\n",
    "        numpy.array: numpy array of each image in the 'data_location' directory \"\"\"\n",
    "    from tensorflow.python.keras import backend as K\n",
    "    data_format = K.image_data_format()\n",
    "    img_list_channels = []\n",
    "    \n",
    "    for channel in channel_names:\n",
    "        img_list_channels.append(nikon_getfiles(data_location, channel))\n",
    "    \n",
    "    img_temp = np.asarray(get_image(os.path.join(data_location, img_list_channels[0][0])))\n",
    "    n_channels = len(channel_names)\n",
    "    all_images = []\n",
    "\n",
    "    for stack_iteration in range(len(img_list_channels[0])):\n",
    "        if data_format == 'channels_first':\n",
    "            shape = tuple([1, n_channels] + list(img_temp.shape))\n",
    "        else:\n",
    "            shape = tuple([1] + list(img_temp.shape) + [n_channels])\n",
    "\n",
    "    all_channels = np.zeros(shape, dtype=K.floatx())\n",
    "\n",
    "    for j in range(n_channels):\n",
    "        img_path = os.path.join(data_location, img_list_channels[j][stack_iteration])\n",
    "        channel_img = get_image(img_path)\n",
    "        if data_format == 'channels_first':\n",
    "                all_channels[0, j, ...] = channel_img\n",
    "        else:\n",
    "                all_channels[0, ..., j] = channel_img\n",
    "\n",
    "    all_images.append(all_channels)\n",
    "\n",
    "    return all_images"
   ]
  },
  {
   "cell_type": "markdown",
   "metadata": {},
   "source": [
    "This cell imports the nucleus.tif and surface.tif files."
   ]
  },
  {
   "cell_type": "code",
   "execution_count": null,
   "metadata": {},
   "outputs": [],
   "source": [
    "counter = 1\n",
    "for current_folder in allFolders:\n",
    "    print(counter)\n",
    "    print(current_folder)\n",
    "    counter = counter+1\n",
    "    data_direct = path+current_folder\n",
    "    names = [cellNuc,cellSur]\n",
    "    \n",
    "imageTemp = get_images_from_directory(data_direct, names)\n",
    "image = imageTemp[0]"
   ]
  },
  {
   "cell_type": "markdown",
   "metadata": {},
   "source": [
    "This cell is simply meant for a quick visualization check of the imported .tif files. Feel free to change 'channel_colors' between red / green / blue."
   ]
  },
  {
   "cell_type": "code",
   "execution_count": null,
   "metadata": {},
   "outputs": [],
   "source": [
    "rgb_images = create_rgb_image(image, channel_colors=['green', 'blue'])\n",
    "\n",
    "idx = 0 # selects index for displaying\n",
    "fig, ax = plt.subplots(1, 3, figsize=(15, 15))\n",
    "ax[0].imshow(image[idx, ..., 0])\n",
    "ax[1].imshow(image[idx, ..., 1])\n",
    "ax[2].imshow(rgb_images[idx, ...])\n",
    "ax[0].set_title('Nuclear channel')\n",
    "ax[1].set_title('Membrane channel')\n",
    "ax[2].set_title('Overlay')\n",
    "plt.show()"
   ]
  },
  {
   "cell_type": "markdown",
   "metadata": {
    "raw_mimetype": "text/restructuredtext"
   },
   "source": [
    "### Generate cell segmentation predictions\n",
    "\n",
    "In the realm of biological imaging, the most common difference between datasets is the resolution of the data measured in microns per pixel. The training resolution of the model is 0.5 mpp (can also be identified using `app.model_mpp`). While 0.5 mpp may yield an acceptable cell segmentation mask, it is unsuitable for all images."
   ]
  },
  {
   "cell_type": "markdown",
   "metadata": {
    "raw_mimetype": "text/restructuredtext"
   },
   "source": [
    "This cell performs the actual segmentations depending on the `image_res` mpp used in the \"Set parameters\" section."
   ]
  },
  {
   "cell_type": "code",
   "execution_count": null,
   "metadata": {},
   "outputs": [],
   "source": [
    "num = list(range(len(image_res)))\n",
    "contain = [] \n",
    "\n",
    "for item in num:\n",
    "    mpp=image_res[item]\n",
    "    segmentation_predictions = app.predict(image, image_mpp=mpp) \n",
    "    contain.append(segmentation_predictions)\n",
    "\n",
    "# Consider inserting 'compartment='nuclear' after 'image_mpp=mpp' to assess computer performance"
   ]
  },
  {
   "cell_type": "markdown",
   "metadata": {},
   "source": [
    "This cell is simply meant for a visualization check of the segmentation by creating an overlay with our nucleus.tif and surface.tif images."
   ]
  },
  {
   "cell_type": "code",
   "execution_count": null,
   "metadata": {},
   "outputs": [],
   "source": [
    "outline_image = []\n",
    "\n",
    "from deepcell.utils.plot_utils import make_outline_overlay\n",
    "overlay_data = make_outline_overlay(rgb_data=rgb_images, predictions=segmentation_predictions)\n",
    "outline_image.append(overlay_data)\n",
    "\n",
    "fig, ax = plt.subplots(1, 2, figsize=(15, 15))\n",
    "ax[0].imshow(rgb_images[idx, ...])\n",
    "ax[1].imshow(overlay_data[idx, ...])\n",
    "ax[0].set_title('Raw data')\n",
    "ax[1].set_title('Predictions')\n",
    "plt.show()"
   ]
  },
  {
   "cell_type": "markdown",
   "metadata": {},
   "source": [
    "### Export cell segmentation mask and cell outline\n",
    "\n",
    "The segmentation mask enables downstream analyses of cell features using our MatLab scripts. The cell outline enables quality check of the segmentation (refer to PART 2B of the protocol). If the segmentation is not ideal, it can be improved by adjusting the `image_res` mpp in the \"Set parameters\" section."
   ]
  },
  {
   "cell_type": "markdown",
   "metadata": {},
   "source": [
    "Feel free to edit the 'saved_name' values to your intended file name. This cell exports the segmentation mask and outline as two separate .tif files into the original file directory (where the nucleus.tif and surface.tif files are stored)."
   ]
  },
  {
   "cell_type": "code",
   "execution_count": null,
   "metadata": {},
   "outputs": [],
   "source": [
    "output_location = data_direct\n",
    "\n",
    "# Save: segmentation mask\n",
    "for item in contain:\n",
    "    item = item.astype(\"float32\")\n",
    "    saved_name_segm = 'segmentationMask.tif'\n",
    "\n",
    "tiff.imsave(os.path.join(output_location, saved_name_segm), item[0,:,:,0])\n",
    "\n",
    "# Save: cell outline\n",
    "for item in outline_image:\n",
    "    item = item.astype(\"float32\")\n",
    "    saved_name_outl = 'cellOutline.tif'\n",
    "\n",
    "tiff.imsave(os.path.join(output_location, saved_name_outl), item[0,:,:,0])"
   ]
  },
  {
   "cell_type": "code",
   "execution_count": null,
   "metadata": {},
   "outputs": [],
   "source": [
    "# Time when the script ends\n",
    "end = time.time()\n",
    "print('Script ended at time =', end)\n",
    "\n",
    "# Time taken to run the script (in seconds)\n",
    "seconds = end - start\n",
    "print('Time elapsed =', seconds)"
   ]
  }
 ],
 "metadata": {
  "kernelspec": {
   "display_name": "Python 3 (ipykernel)",
   "language": "python",
   "name": "python3"
  },
  "language_info": {
   "codemirror_mode": {
    "name": "ipython",
    "version": 3
   },
   "file_extension": ".py",
   "mimetype": "text/x-python",
   "name": "python",
   "nbconvert_exporter": "python",
   "pygments_lexer": "ipython3",
   "version": "3.9.7"
  }
 },
 "nbformat": 4,
 "nbformat_minor": 4
}
